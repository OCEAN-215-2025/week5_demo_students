{
 "cells": [
  {
   "cell_type": "markdown",
   "id": "5041f496-7389-44f3-8925-a9aeae209340",
   "metadata": {},
   "source": [
    "# Week 5 in-class Demos"
   ]
  },
  {
   "cell_type": "code",
   "execution_count": null,
   "id": "eadce154-e94a-45fc-9a77-663962433196",
   "metadata": {},
   "outputs": [],
   "source": [
    "import numpy as np\n",
    "import matplotlib.pyplot as plt"
   ]
  },
  {
   "cell_type": "code",
   "execution_count": null,
   "id": "8fda7541-f542-45b9-82b3-91c80e5f5ef7",
   "metadata": {},
   "outputs": [],
   "source": [
    "# Example Geospatial Temperature Data \n",
    "data = np.array([\n",
    "    [\n",
    "        [20, 21.5, 22, 19.5, 20],\n",
    "        [18, 17.5, 19, 20, 20.5]\n",
    "    ],[\n",
    "        [20.5, 21, 19.5, 23, 25.1],\n",
    "        [19, 19, 20.5, 18.5, 18]\n",
    "    ],[\n",
    "        [23.5, 24, 22, 22, 25],\n",
    "        [23, 25, 24, 22.5, 21.5]\n",
    "    ]\n",
    "])\n",
    "\n",
    "print(data.shape) # Shape of data is (time, latitude, longitude)\n",
    "print(data.ndim)\n",
    "# Time values are [3, 6, 9] in hours of a specific day\n",
    "# Latitude values are [30, 31]\n",
    "# Longitude values are [28, 29, 30, 31, 32]"
   ]
  },
  {
   "cell_type": "markdown",
   "id": "655c567a-9b31-4cc4-a3a8-4d1c1039d1ad",
   "metadata": {},
   "source": [
    "## Some n-D slicing"
   ]
  },
  {
   "cell_type": "code",
   "execution_count": null,
   "id": "025b5ae4-55b8-43ee-9e0e-095077e4b739",
   "metadata": {},
   "outputs": [],
   "source": [
    "# Let's grab the temperatures at time = 6 (index = 1), latitude = 31 (index = 1), and longitude = 30 (index = 2) \n",
    "temp_sel = data[1, 1, 2]\n",
    "print(temp_sel)\n",
    "\n",
    "# How about the temperatures at time = 3 (index = 0), latitude = 30 (index = 0), and ALL longitudes?\n",
    "temp_sel1 = data[0, 0, :]\n",
    "print(temp_sel1) # Shape should now be a 1D array of 5 values (columns = longitudes)\n",
    "\n",
    "# What about temperatures at all times, all latitudes, and longitude = 32 (index = 4)?\n",
    "temp_sel2 = data[:, :, 4]\n",
    "print(temp_sel2) # Shape should be 2D array of dimensions (time, latitude) selected at longitude = 32"
   ]
  },
  {
   "cell_type": "code",
   "execution_count": null,
   "id": "9642da16-41fa-412a-ab51-b3ab9bf1ece1",
   "metadata": {},
   "outputs": [],
   "source": [
    "# Let's convert from Celsius to fahrenheit using mapping\n",
    "\n",
    "temps_f = data * 9/5 + 32 # Since our data array is all temp values, we can just use numpy's vectorization on all the elements!\n",
    "temps_f"
   ]
  },
  {
   "cell_type": "code",
   "execution_count": null,
   "id": "dccbd0db-e997-4898-9059-8d99baaa8bcf",
   "metadata": {},
   "outputs": [],
   "source": [
    "# But what if only some of the data values were temps and the other values were time and longitude?\n",
    "# New shape is 2-dimensions (measurement, values) in the order of [time, latitude, longitude, temperature]\n",
    "data_new = np.array([\n",
    "    [3, 30, 78, 20.0],\n",
    "    [3, 30, 79, 21.5],\n",
    "    [3, 30, 80, 22.0],\n",
    "    [3, 30, 81, 19.5],\n",
    "    [3, 30, 82, 20.0],\n",
    "    [3, 31, 78, 18.0],\n",
    "    [3, 31, 79, 17.5],\n",
    "    [3, 31, 80, 19.0],\n",
    "    [3, 31, 81, 20.0],\n",
    "    [3, 31, 82, 20.5],\n",
    "    [6, 30, 78, 20.5],\n",
    "    [6, 30, 79, 21.0],\n",
    "    [6, 30, 80, 19.5],\n",
    "    [6, 30, 81, 23.0],\n",
    "    [6, 30, 82, 25.1],\n",
    "    [6, 31, 78, 19.0],\n",
    "    [6, 31, 79, 19.0],\n",
    "    [6, 31, 80, 20.5],\n",
    "    [6, 31, 81, 18.5],\n",
    "    [6, 31, 82, 18.0],\n",
    "    [9, 30, 78, 23.5],\n",
    "    [9, 30, 79, 24.0],\n",
    "    [9, 30, 80, 22.0],\n",
    "    [9, 30, 81, 22.0],\n",
    "    [9, 30, 82, 25.0],\n",
    "    [9, 31, 78, 23.0],\n",
    "    [9, 31, 79, 25.0],\n",
    "    [9, 31, 80, 24.0],\n",
    "    [9, 31, 81, 22.5],\n",
    "    [9, 31, 82, 21.5]\n",
    "])\n",
    "print(data_new.shape)"
   ]
  },
  {
   "cell_type": "markdown",
   "id": "d25eee29-5aa3-45d8-9c49-370577edfddc",
   "metadata": {},
   "source": [
    "## More mapping on n-D arrays"
   ]
  },
  {
   "cell_type": "code",
   "execution_count": null,
   "id": "e279f9a6-09d6-4038-9042-5c7bde29afdb",
   "metadata": {},
   "outputs": [],
   "source": [
    "# Now, to convert to fahrenheit, we only want to perform operations on the last column (temp), and leave the first three the same\n",
    "\n",
    "mult = [1, 1, 1, 9/5] # multiplies time, lat, and lon by 1 (keeps the same) and only temp by 9/5 (last index)\n",
    "offset = [0, 0, 0, 32] # Adds 0 to time, lat and lon to keep the same and adds 32 to temp for °F (last index)\n",
    "\n",
    "data_new_f = data_new * mult + offset # Only performing element wise operations on the last column based on how we set up math arrays above\n",
    "\n",
    "print(data_new_f) # Updated 2D array in °F!"
   ]
  },
  {
   "cell_type": "markdown",
   "id": "e999d0ba-97e8-4b0c-9d61-efb37fecfd84",
   "metadata": {},
   "source": [
    "# PollEV 1\n",
    "## What dimension is left after the following code?"
   ]
  },
  {
   "cell_type": "code",
   "execution_count": null,
   "id": "fa96e3b5-a022-45d0-81bd-88137bdb888f",
   "metadata": {},
   "outputs": [],
   "source": [
    "# Take the mean over time:\n",
    "time_mean = np.mean(data, axis = 0)\n",
    "lat_time_mean = time_mean[1, :]"
   ]
  },
  {
   "cell_type": "code",
   "execution_count": null,
   "id": "84dd0674-fbd1-484c-a4d5-425589020e70",
   "metadata": {},
   "outputs": [],
   "source": [
    "longitudes = np.arange(78, 78 + len(lat_time_mean), 1) # Let's create a longitude array of the same size as our mean\n",
    "print(longitudes)"
   ]
  },
  {
   "cell_type": "code",
   "execution_count": null,
   "id": "89cd2790-3783-4f92-83c3-1e40b4c2fad2",
   "metadata": {},
   "outputs": [],
   "source": [
    "fig = plt.figure() # The easel\n",
    "ax = fig.add_subplot() # The blank canvas\n",
    "\n",
    "ax.plot(longitudes, lat_time_mean) # The actual paint on the canvas\n",
    "\n",
    "plt.show(fig) # The full art piece"
   ]
  },
  {
   "cell_type": "code",
   "execution_count": null,
   "id": "a96e6385-896f-41a6-9c31-6fa96df23832",
   "metadata": {},
   "outputs": [],
   "source": [
    "# What is the maximum temperature and where in longitude does it occur?\n",
    "max_index = np.argmax(lat_time_mean)\n",
    "max_temp = np.max(lat_time_mean)\n",
    "max_lon = longitudes[max_index]\n",
    "print(max_lon)\n",
    "print(max_temp)"
   ]
  },
  {
   "cell_type": "code",
   "execution_count": null,
   "id": "fcb196d1-1f25-49a8-a6eb-d108a90b8a91",
   "metadata": {},
   "outputs": [],
   "source": [
    "fig = plt.figure()\n",
    "ax = fig.add_subplot()\n",
    "ax.plot(longitudes, lat_time_mean)\n",
    "ax.axvline(x = max_lon, color = 'r', ls = '--')\n",
    "ax.axhline(y = max_temp, color = 'r', ls = '--')\n",
    "\n",
    "plt.show(fig)"
   ]
  },
  {
   "cell_type": "code",
   "execution_count": null,
   "id": "29e13678-29da-43b2-819c-d1a3085def50",
   "metadata": {},
   "outputs": [],
   "source": [
    "x = np.linspace(1, 100, 100)\n",
    "y1 = np.random.rand(100)\n",
    "y2 = np.sin(x)"
   ]
  },
  {
   "cell_type": "markdown",
   "id": "274f2fce-1e86-4abd-b3ec-875e62a3888b",
   "metadata": {},
   "source": [
    "# Think Pair Share:\n",
    "## How would you improve the readability of this plot?"
   ]
  },
  {
   "cell_type": "code",
   "execution_count": null,
   "id": "547eaabf-9b11-46bc-846d-fb6664a283ac",
   "metadata": {},
   "outputs": [],
   "source": [
    "fig = plt.figure(figsize = (10, 6))\n",
    "ax = fig.add_subplot()\n",
    "ax.plot(x, y1, c = 'b', label = 'Line 1')\n",
    "ax.plot(x, y2, c = 'r', label = 'Line 2') \n",
    "ax.grid()\n",
    "plt.show(fig)"
   ]
  },
  {
   "cell_type": "code",
   "execution_count": null,
   "id": "3ccac72d-7c4d-4c4a-87fc-d899b58c37ab",
   "metadata": {},
   "outputs": [],
   "source": [
    "y1_mean = np.mean(y1)\n",
    "y2_mean = np.mean(y2)"
   ]
  },
  {
   "cell_type": "markdown",
   "id": "feed8144-9d35-425c-bf39-27b1151e3c48",
   "metadata": {},
   "source": [
    "# Think Pair Share\n",
    "## How would you improve this plot?"
   ]
  },
  {
   "cell_type": "code",
   "execution_count": null,
   "id": "5672a448-6a6c-45c9-b735-9f7c42d852e0",
   "metadata": {},
   "outputs": [],
   "source": [
    "fig = plt.figure(figsize = (10, 6))\n",
    "ax = fig.add_subplot()\n",
    "\n",
    "ax.plot(x, y1, c = 'b', label = 'Line 1')\n",
    "ax.plot(x, y2, c = 'r', label = 'Line 2')\n",
    "ax.axhline(y = y1_mean, c = 'b', label = 'Mean 1') \n",
    "ax.axhline(y = y2_mean, c = 'r', label = 'Mean 2')\n",
    "ax.legend() \n",
    "ax.grid()\n",
    "\n",
    "plt.show(fig)"
   ]
  },
  {
   "cell_type": "markdown",
   "id": "524e71cd-efda-4b6a-96f4-e4353c180ed3",
   "metadata": {},
   "source": [
    "## Other types of plots:"
   ]
  },
  {
   "cell_type": "code",
   "execution_count": null,
   "id": "48d8c781-d212-4b6d-9f95-985ce609fc28",
   "metadata": {},
   "outputs": [],
   "source": [
    "# Scatterplot: Often used to show relationship between two variables\n",
    "fig = plt.figure() \n",
    "ax = fig.add_subplot()\n",
    "\n",
    "ax.scatter(y1, y2, c = 'r', s = 10)\n",
    "ax.set_title('Scatter')\n",
    "ax.set_ylabel('y2')\n",
    "ax.set_xlabel('y1')\n",
    "\n",
    "plt.show(fig)"
   ]
  },
  {
   "cell_type": "markdown",
   "id": "8d30f21c-0d49-4b80-87f4-3e8ac7b8cdeb",
   "metadata": {},
   "source": [
    "# PollEV 2\n",
    "\n",
    "## What input parameter can you use to label each bar? (HINT: Use matplotlib documentation)"
   ]
  },
  {
   "cell_type": "code",
   "execution_count": null,
   "id": "263f7321-8199-4ade-a636-601bdf81c8e3",
   "metadata": {},
   "outputs": [],
   "source": [
    "labels = ['Seattle', 'San Diego', 'New York', 'Miami', 'St. Louis']\n",
    "rain = [50, 30 , 40, 70, 45]\n",
    "\n",
    "fig = plt.figure()\n",
    "ax = fig.add_subplot()\n",
    "\n",
    "ax.bar(np.arange(len(labels)), rain)\n",
    "ax.set_ylabel('Avg Rainfall per year (in)')\n",
    "ax.set_title('Rainfall Averages for Major US Cities')\n",
    "\n",
    "plt.show(fig)"
   ]
  },
  {
   "cell_type": "code",
   "execution_count": null,
   "id": "229064e7-20ea-4cc6-8028-272d55b658d8",
   "metadata": {},
   "outputs": [],
   "source": [
    "fig = plt.figure() \n",
    "ax = fig.add_subplot()\n",
    "\n",
    "ax.hist(y1, bins = 30)\n",
    "ax.set_title('Histogram')\n",
    "\n",
    "plt.show(fig)"
   ]
  },
  {
   "cell_type": "code",
   "execution_count": null,
   "id": "7b7c089b-edc8-4f2d-91a6-4c9655e08218",
   "metadata": {},
   "outputs": [],
   "source": [
    "sf_temps = np.array([51, 54, 56, 57, 59, 61, 62, 62, 63, 62, 57, 51]) # Mean monthly temps of SF\n",
    "sf_low = np.array([46, 49, 51, 53, 54, 55, 56, 57, 58, 56, 52, 47]) # Monthly Lows\n",
    "sf_high = np.array([57, 60, 63, 65, 67, 69, 70, 70, 72, 70, 63, 57]) # Monthly Highs\n",
    "months = np.arange(1, 13)\n",
    "sf_stdevs = np.array([2, 3, 4, 5, 6, 7, 8, 9, 11, 6, 3, 2])/4 # Monthly standard deviations\n",
    "\n",
    "temp_yerr = np.zeros((2, 12)) # Initialize 2x12 array to feed into errorbar\n",
    "temp_yerr[0,:] = sf_temps - sf_low # Low limit\n",
    "temp_yerr[1,:] = sf_high - sf_temps # High limit\n",
    "\n",
    "fig = plt.figure()\n",
    "ax = fig.add_subplot()\n",
    "\n",
    "ax.errorbar(months, sf_temps, yerr = temp_yerr, capsize = 3, capthick = 3, marker = 'o', color = 'k', label = 'Highs and Lows')\n",
    "ax.errorbar(months, sf_temps, yerr = sf_stdevs, capsize = 7, elinewidth = 3, marker = 'o', color = 'r', label = 'Standard Deviations')\n",
    "ax.set_xlabel('Month of Year')\n",
    "ax.set_ylabel('Temperature (°F)')\n",
    "ax.set_title('San Francisco Monthly Temperatures with Lows and Highs')\n",
    "ax.legend()\n",
    "\n",
    "plt.show(fig)"
   ]
  },
  {
   "cell_type": "code",
   "execution_count": null,
   "id": "ab3f2ddf-259a-4427-bf96-fc7c4f3b78c4",
   "metadata": {},
   "outputs": [],
   "source": []
  }
 ],
 "metadata": {
  "kernelspec": {
   "display_name": "Python 3 (ipykernel)",
   "language": "python",
   "name": "python3"
  },
  "language_info": {
   "codemirror_mode": {
    "name": "ipython",
    "version": 3
   },
   "file_extension": ".py",
   "mimetype": "text/x-python",
   "name": "python",
   "nbconvert_exporter": "python",
   "pygments_lexer": "ipython3",
   "version": "3.11.13"
  }
 },
 "nbformat": 4,
 "nbformat_minor": 5
}
